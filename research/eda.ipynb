{
 "cells": [
  {
   "cell_type": "code",
   "execution_count": 4,
   "id": "initial_id",
   "metadata": {
    "collapsed": true,
    "ExecuteTime": {
     "end_time": "2023-08-27T03:15:18.027715300Z",
     "start_time": "2023-08-27T03:15:17.872564500Z"
    }
   },
   "outputs": [
    {
     "name": "stdout",
     "output_type": "stream",
     "text": [
      "2.0.3\n",
      "1.7.6\n",
      "0.18.15\n"
     ]
    }
   ],
   "source": [
    "# check pandas version\n",
    "import pandas as pd\n",
    "print(pd.__version__)\n",
    "\n",
    "# check xgboost version\n",
    "import xgboost as xgb\n",
    "print(xgb.__version__)\n",
    "\n",
    "# check polars version\n",
    "import polars as pl\n",
    "print(pl.__version__)"
   ]
  },
  {
   "cell_type": "code",
   "execution_count": 6,
   "outputs": [],
   "source": [
    "list = {\"10-14\": 4, \"15-19\": 8, \"20-24\":5, \"25-29\": 2, \"30-34\": 1}\n",
    "\n",
    "\n",
    "# first is range and second is freq find mean\n",
    "def mean(list):\n",
    "    sum = 0\n",
    "    count = 0\n",
    "    for key, value in list.items():\n",
    "        sum += int(key.split(\"-\")[0]) * value\n",
    "        count += value\n",
    "    return sum / count"
   ],
   "metadata": {
    "collapsed": false
   },
   "id": "361248c8b3ea2f61"
  },
  {
   "cell_type": "code",
   "execution_count": 7,
   "outputs": [
    {
     "data": {
      "text/plain": "17.0"
     },
     "execution_count": 7,
     "metadata": {},
     "output_type": "execute_result"
    }
   ],
   "source": [
    "mean(list)"
   ],
   "metadata": {
    "collapsed": false,
    "ExecuteTime": {
     "end_time": "2023-08-27T03:18:32.187396100Z",
     "start_time": "2023-08-27T03:18:32.167822700Z"
    }
   },
   "id": "f8a982c035573a99"
  }
 ],
 "metadata": {
  "kernelspec": {
   "display_name": "Python 3",
   "language": "python",
   "name": "python3"
  },
  "language_info": {
   "codemirror_mode": {
    "name": "ipython",
    "version": 2
   },
   "file_extension": ".py",
   "mimetype": "text/x-python",
   "name": "python",
   "nbconvert_exporter": "python",
   "pygments_lexer": "ipython2",
   "version": "2.7.6"
  }
 },
 "nbformat": 4,
 "nbformat_minor": 5
}
