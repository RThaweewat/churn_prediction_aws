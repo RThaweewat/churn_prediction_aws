{
 "cells": [
  {
   "cell_type": "code",
   "execution_count": 1,
   "id": "initial_id",
   "metadata": {
    "collapsed": true,
    "ExecuteTime": {
     "end_time": "2023-08-27T03:32:04.671897900Z",
     "start_time": "2023-08-27T03:32:04.603124700Z"
    }
   },
   "outputs": [],
   "source": [
    "import polars as pl"
   ]
  },
  {
   "cell_type": "code",
   "execution_count": 58,
   "outputs": [],
   "source": [
    "data_url = \"https://raw.githubusercontent.com/Pradnya1208/Telecom-Customer-Churn-prediction/main/data.csv\"\n",
    "\n",
    "# import data but if not available raise an error\n",
    "if data_url:\n",
    "    df = ((pl.read_csv(data_url)\n",
    "            .drop_nulls()\n",
    "            .with_columns(pl.when(pl.col(\"Partner\") == \"Yes\").then(pl.lit(1)).otherwise(pl.lit(0)).alias(\"Partner\"))\n",
    "            .with_columns(pl.when(pl.col(\"Dependents\") == \"Yes\").then(pl.lit(1)).otherwise(pl.lit(0)).alias(\"Dependents\"))\n",
    "            .with_columns(pl.when(pl.col(\"OnlineSecurity\") == \"Yes\").then(pl.lit(1)).otherwise(pl.lit(0)).alias(\"OnlineSecurity\"))\n",
    "            .with_columns(pl.when(pl.col(\"OnlineBackup\") == \"Yes\").then(pl.lit(1)).otherwise(pl.lit(0)).alias(\"OnlineBackup\"))\n",
    "            .with_columns(pl.when(pl.col(\"PhoneService\") == \"Yes\").then(pl.lit(1)).otherwise(pl.lit(0)).alias(\"PhoneService\"))\n",
    "            .with_columns(pl.when(pl.col(\"DeviceProtection\") == \"Yes\").then(pl.lit(1)).otherwise(pl.lit(0)).alias(\"DeviceProtection\"))\n",
    "            .with_columns(pl.when(pl.col(\"TechSupport\") == \"Yes\").then(pl.lit(1)).otherwise(pl.lit(0)).alias(\"TechSupport\"))\n",
    "            .with_columns(pl.when(pl.col(\"StreamingTV\") == \"Yes\").then(pl.lit(1)).otherwise(pl.lit(0)).alias(\"StreamingTV\"))\n",
    "            .with_columns(pl.when(pl.col(\"StreamingMovies\") == \"Yes\").then(pl.lit(1)).otherwise(pl.lit(0)).alias(\"StreamingMovies\"))\n",
    "            .with_columns(pl.when(pl.col(\"PaperlessBilling\") == \"Yes\").then(pl.lit(1)).otherwise(pl.lit(0)).alias(\"PaperlessBilling\"))\n",
    "            .with_columns(pl.when(pl.col(\"Churn\") == \"Yes\").then(pl.lit(1)).otherwise(pl.lit(0)).alias(\"Churn\"))\n",
    "            # one hot on multiple lines\n",
    "            .with_columns(pl.when(pl.col(\"MultipleLines\") == \"Yes\").then(pl.lit(1)).otherwise(pl.lit(0)).alias(\"MultipleLines_Yes\"))\n",
    "            .with_columns(pl.when(pl.col(\"MultipleLines\") == \"No\").then(pl.lit(1)).otherwise(pl.lit(0)).alias(\"MultipleLines_No\"))\n",
    "            .with_columns(pl.when(pl.col(\"MultipleLines\") == \"No phone service\").then(pl.lit(1)).otherwise(pl.lit(0)).alias(\"MultipleLines_No phone service\"))\n",
    "            # one hot contract\n",
    "            .with_columns(pl.when(pl.col(\"Contract\") == \"Month-to-month\").then(pl.lit(1)).otherwise(pl.lit(0)).alias(\"Contract_Month-to-month\"))\n",
    "            .with_columns(pl.when(pl.col(\"Contract\") == \"One year\").then(pl.lit(1)).otherwise(pl.lit(0)).alias(\"Contract_One year\"))\n",
    "            .with_columns(pl.when(pl.col(\"Contract\") == \"Two year\").then(pl.lit(1)).otherwise(pl.lit(0)).alias(\"Contract_Two year\"))\n",
    "            # one hot InternetService\n",
    "            .with_columns(pl.when(pl.col(\"InternetService\") == \"DSL\").then(pl.lit(1)).otherwise(pl.lit(0)).alias(\"InternetService_DSL\"))\n",
    "            .with_columns(pl.when(pl.col(\"InternetService\") == \"Fiber optic\").then(pl.lit(1)).otherwise(pl.lit(0)).alias(\"InternetService_Fiber optic\"))\n",
    "            .with_columns(pl.when(pl.col(\"InternetService\") == \"No\").then(pl.lit(1)).otherwise(pl.lit(0)).alias(\"InternetService_No\"))\n",
    "            # one hot PaymentMethod\n",
    "            .with_columns(pl.when(pl.col(\"PaymentMethod\") == \"Electronic check\").then(pl.lit(1)).otherwise(pl.lit(0)).alias(\"PaymentMethod_Electronic check\"))\n",
    "            .with_columns(pl.when(pl.col(\"PaymentMethod\") == \"Mailed check\").then(pl.lit(1)).otherwise(pl.lit(0)).alias(\"PaymentMethod_Mailed check\"))\n",
    "            .with_columns(pl.when(pl.col(\"PaymentMethod\") == \"Bank transfer (automatic)\").then(pl.lit(1)).otherwise(pl.lit(0)).alias(\"PaymentMethod_Bank transfer\"))\n",
    "            .with_columns(pl.when(pl.col(\"PaymentMethod\") == \"Credit card (automatic)\").then(pl.lit(1)).otherwise(pl.lit(0)).alias(\"PaymentMethod_Credit card\"))\n",
    "            .drop(['MultipleLines', 'Contract', 'InternetService', 'PaymentMethod']))\n",
    "            .to_pandas()\n",
    "            )\n",
    "    # lower case column names and replace spaces with _\n",
    "    df.columns = df.columns.str.lower().str.replace(' ', '_')\n",
    "else:\n",
    "    raise ValueError(\"Data not available\")"
   ],
   "metadata": {
    "collapsed": false,
    "ExecuteTime": {
     "end_time": "2023-08-27T03:53:49.057897600Z",
     "start_time": "2023-08-27T03:53:48.612785300Z"
    }
   },
   "id": "d6ddf4a238b27007"
  },
  {
   "cell_type": "code",
   "execution_count": 59,
   "outputs": [
    {
     "data": {
      "text/plain": "   customerid  gender  seniorcitizen  partner  dependents  tenure  \\\n0  7590-VHVEG  Female              0        1           0       1   \n1  5575-GNVDE    Male              0        0           0      34   \n2  3668-QPYBK    Male              0        0           0       2   \n3  7795-CFOCW    Male              0        0           0      45   \n4  9237-HQITU  Female              0        0           0       2   \n\n   phoneservice  onlinesecurity  onlinebackup  deviceprotection  ...  \\\n0             0               0             1                 0  ...   \n1             1               1             0                 1  ...   \n2             1               1             1                 0  ...   \n3             0               1             0                 1  ...   \n4             1               0             0                 0  ...   \n\n   contract_month-to-month  contract_one_year  contract_two_year  \\\n0                        1                  0                  0   \n1                        0                  1                  0   \n2                        1                  0                  0   \n3                        0                  1                  0   \n4                        1                  0                  0   \n\n   internetservice_dsl  internetservice_fiber_optic  internetservice_no  \\\n0                    1                            0                   0   \n1                    1                            0                   0   \n2                    1                            0                   0   \n3                    1                            0                   0   \n4                    0                            1                   0   \n\n   paymentmethod_electronic_check  paymentmethod_mailed_check  \\\n0                               1                           0   \n1                               0                           1   \n2                               0                           1   \n3                               0                           0   \n4                               1                           0   \n\n   paymentmethod_bank_transfer  paymentmethod_credit_card  \n0                            0                          0  \n1                            0                          0  \n2                            0                          0  \n3                            1                          0  \n4                            0                          0  \n\n[5 rows x 30 columns]",
      "text/html": "<div>\n<style scoped>\n    .dataframe tbody tr th:only-of-type {\n        vertical-align: middle;\n    }\n\n    .dataframe tbody tr th {\n        vertical-align: top;\n    }\n\n    .dataframe thead th {\n        text-align: right;\n    }\n</style>\n<table border=\"1\" class=\"dataframe\">\n  <thead>\n    <tr style=\"text-align: right;\">\n      <th></th>\n      <th>customerid</th>\n      <th>gender</th>\n      <th>seniorcitizen</th>\n      <th>partner</th>\n      <th>dependents</th>\n      <th>tenure</th>\n      <th>phoneservice</th>\n      <th>onlinesecurity</th>\n      <th>onlinebackup</th>\n      <th>deviceprotection</th>\n      <th>...</th>\n      <th>contract_month-to-month</th>\n      <th>contract_one_year</th>\n      <th>contract_two_year</th>\n      <th>internetservice_dsl</th>\n      <th>internetservice_fiber_optic</th>\n      <th>internetservice_no</th>\n      <th>paymentmethod_electronic_check</th>\n      <th>paymentmethod_mailed_check</th>\n      <th>paymentmethod_bank_transfer</th>\n      <th>paymentmethod_credit_card</th>\n    </tr>\n  </thead>\n  <tbody>\n    <tr>\n      <th>0</th>\n      <td>7590-VHVEG</td>\n      <td>Female</td>\n      <td>0</td>\n      <td>1</td>\n      <td>0</td>\n      <td>1</td>\n      <td>0</td>\n      <td>0</td>\n      <td>1</td>\n      <td>0</td>\n      <td>...</td>\n      <td>1</td>\n      <td>0</td>\n      <td>0</td>\n      <td>1</td>\n      <td>0</td>\n      <td>0</td>\n      <td>1</td>\n      <td>0</td>\n      <td>0</td>\n      <td>0</td>\n    </tr>\n    <tr>\n      <th>1</th>\n      <td>5575-GNVDE</td>\n      <td>Male</td>\n      <td>0</td>\n      <td>0</td>\n      <td>0</td>\n      <td>34</td>\n      <td>1</td>\n      <td>1</td>\n      <td>0</td>\n      <td>1</td>\n      <td>...</td>\n      <td>0</td>\n      <td>1</td>\n      <td>0</td>\n      <td>1</td>\n      <td>0</td>\n      <td>0</td>\n      <td>0</td>\n      <td>1</td>\n      <td>0</td>\n      <td>0</td>\n    </tr>\n    <tr>\n      <th>2</th>\n      <td>3668-QPYBK</td>\n      <td>Male</td>\n      <td>0</td>\n      <td>0</td>\n      <td>0</td>\n      <td>2</td>\n      <td>1</td>\n      <td>1</td>\n      <td>1</td>\n      <td>0</td>\n      <td>...</td>\n      <td>1</td>\n      <td>0</td>\n      <td>0</td>\n      <td>1</td>\n      <td>0</td>\n      <td>0</td>\n      <td>0</td>\n      <td>1</td>\n      <td>0</td>\n      <td>0</td>\n    </tr>\n    <tr>\n      <th>3</th>\n      <td>7795-CFOCW</td>\n      <td>Male</td>\n      <td>0</td>\n      <td>0</td>\n      <td>0</td>\n      <td>45</td>\n      <td>0</td>\n      <td>1</td>\n      <td>0</td>\n      <td>1</td>\n      <td>...</td>\n      <td>0</td>\n      <td>1</td>\n      <td>0</td>\n      <td>1</td>\n      <td>0</td>\n      <td>0</td>\n      <td>0</td>\n      <td>0</td>\n      <td>1</td>\n      <td>0</td>\n    </tr>\n    <tr>\n      <th>4</th>\n      <td>9237-HQITU</td>\n      <td>Female</td>\n      <td>0</td>\n      <td>0</td>\n      <td>0</td>\n      <td>2</td>\n      <td>1</td>\n      <td>0</td>\n      <td>0</td>\n      <td>0</td>\n      <td>...</td>\n      <td>1</td>\n      <td>0</td>\n      <td>0</td>\n      <td>0</td>\n      <td>1</td>\n      <td>0</td>\n      <td>1</td>\n      <td>0</td>\n      <td>0</td>\n      <td>0</td>\n    </tr>\n  </tbody>\n</table>\n<p>5 rows × 30 columns</p>\n</div>"
     },
     "execution_count": 59,
     "metadata": {},
     "output_type": "execute_result"
    }
   ],
   "source": [
    "df.head()"
   ],
   "metadata": {
    "collapsed": false,
    "ExecuteTime": {
     "end_time": "2023-08-27T03:53:49.074897500Z",
     "start_time": "2023-08-27T03:53:49.065896800Z"
    }
   },
   "id": "b7c950beb964d302"
  },
  {
   "cell_type": "code",
   "execution_count": 60,
   "outputs": [
    {
     "name": "stdout",
     "output_type": "stream",
     "text": [
      "<class 'pandas.core.frame.DataFrame'>\n",
      "RangeIndex: 7032 entries, 0 to 7031\n",
      "Data columns (total 30 columns):\n",
      " #   Column                          Non-Null Count  Dtype  \n",
      "---  ------                          --------------  -----  \n",
      " 0   customerid                      7032 non-null   object \n",
      " 1   gender                          7032 non-null   object \n",
      " 2   seniorcitizen                   7032 non-null   int64  \n",
      " 3   partner                         7032 non-null   int32  \n",
      " 4   dependents                      7032 non-null   int32  \n",
      " 5   tenure                          7032 non-null   int64  \n",
      " 6   phoneservice                    7032 non-null   int32  \n",
      " 7   onlinesecurity                  7032 non-null   int32  \n",
      " 8   onlinebackup                    7032 non-null   int32  \n",
      " 9   deviceprotection                7032 non-null   int32  \n",
      " 10  techsupport                     7032 non-null   int32  \n",
      " 11  streamingtv                     7032 non-null   int32  \n",
      " 12  streamingmovies                 7032 non-null   int32  \n",
      " 13  paperlessbilling                7032 non-null   int32  \n",
      " 14  monthlycharges                  7032 non-null   float64\n",
      " 15  totalcharges                    7032 non-null   float64\n",
      " 16  churn                           7032 non-null   int32  \n",
      " 17  multiplelines_yes               7032 non-null   int32  \n",
      " 18  multiplelines_no                7032 non-null   int32  \n",
      " 19  multiplelines_no_phone_service  7032 non-null   int32  \n",
      " 20  contract_month-to-month         7032 non-null   int32  \n",
      " 21  contract_one_year               7032 non-null   int32  \n",
      " 22  contract_two_year               7032 non-null   int32  \n",
      " 23  internetservice_dsl             7032 non-null   int32  \n",
      " 24  internetservice_fiber_optic     7032 non-null   int32  \n",
      " 25  internetservice_no              7032 non-null   int32  \n",
      " 26  paymentmethod_electronic_check  7032 non-null   int32  \n",
      " 27  paymentmethod_mailed_check      7032 non-null   int32  \n",
      " 28  paymentmethod_bank_transfer     7032 non-null   int32  \n",
      " 29  paymentmethod_credit_card       7032 non-null   int32  \n",
      "dtypes: float64(2), int32(24), int64(2), object(2)\n",
      "memory usage: 989.0+ KB\n"
     ]
    }
   ],
   "source": [
    "df.info()"
   ],
   "metadata": {
    "collapsed": false,
    "ExecuteTime": {
     "end_time": "2023-08-27T03:54:18.322341900Z",
     "start_time": "2023-08-27T03:54:18.300342200Z"
    }
   },
   "id": "9ca3456599eda19d"
  }
 ],
 "metadata": {
  "kernelspec": {
   "display_name": "Python 3",
   "language": "python",
   "name": "python3"
  },
  "language_info": {
   "codemirror_mode": {
    "name": "ipython",
    "version": 2
   },
   "file_extension": ".py",
   "mimetype": "text/x-python",
   "name": "python",
   "nbconvert_exporter": "python",
   "pygments_lexer": "ipython2",
   "version": "2.7.6"
  }
 },
 "nbformat": 4,
 "nbformat_minor": 5
}
